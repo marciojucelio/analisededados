{
 "cells": [
  {
   "cell_type": "code",
   "execution_count": null,
   "metadata": {},
   "outputs": [],
   "source": [
    "# !pip install pandas\n",
    "# !pip install numpy\n",
    "# !pip install openpyxl\n",
    "# !pip install plotly\n",
    "#"
   ]
  },
  {
   "cell_type": "code",
   "execution_count": null,
   "metadata": {},
   "outputs": [],
   "source": [
    "import pandas as pd\n",
    "\n",
    "table = pd.read_csv(\"cancelamentos_sample.csv\") #importando tabela\n",
    "table = table.drop(columns=\"CustomerID\") #removendo uma coluna da tabela\n",
    "display(table) # ver tabela\n",
    "table = table.dropna() # removendo linhas com valores vazios\n",
    "display(table.info()) # ver informações da tabela"
   ]
  },
  {
   "cell_type": "code",
   "execution_count": null,
   "metadata": {},
   "outputs": [],
   "source": [
    "display(table[\"cancelou\"].value_counts()) #descobrir quantidade de valores de uma coluna, ex: quantidades de 0 e 1\n",
    "display(table[\"cancelou\"].value_counts(normalize=True)) #.map(\"{:.1%}\".format) #colocando a quantidade em porcentagem + formatação"
   ]
  },
  {
   "cell_type": "code",
   "execution_count": null,
   "metadata": {},
   "outputs": [],
   "source": [
    "display(table[\"duracao_contrato\"].value_counts()) #descobrir quantidade de valores de uma coluna, ex: quantidades de 0 e 1\n",
    "display(table[\"duracao_contrato\"].value_counts(normalize=True).map(\"{:.1%}\".format))  #colocando a quantidade em porcentagem + formatação"
   ]
  },
  {
   "cell_type": "code",
   "execution_count": null,
   "metadata": {},
   "outputs": [],
   "source": [
    "agrupamento = table.groupby(\"duracao_contrato\").mean(numeric_only = True) #agrupando a coluna e calculando a média dos valores númericos \n",
    "\n",
    "display(agrupamento)"
   ]
  },
  {
   "cell_type": "code",
   "execution_count": null,
   "metadata": {},
   "outputs": [],
   "source": [
    "table = table[table[\"duracao_contrato\"] != \"Monthly\"] #elimnando a linha mês, já que todos cancelaram\n",
    "display(table[\"cancelou\"].value_counts()) #descobrir quantidade de valores de uma coluna, ex: quantidades de 0 e 1\n",
    "display(table[\"cancelou\"].value_counts(normalize=True).map(\"{:.1%}\".format))"
   ]
  },
  {
   "cell_type": "code",
   "execution_count": null,
   "metadata": {},
   "outputs": [],
   "source": [
    "import plotly.express as px\n",
    "for coluna in table.columns: #percorrendo todas colunas da tabela\n",
    "    grafico = px.histogram(table, x=coluna, color=\"cancelou\") #criando os gráficos\n",
    "    grafico.show() #monstrando o gráfico"
   ]
  },
  {
   "cell_type": "code",
   "execution_count": 14,
   "metadata": {},
   "outputs": [
    {
     "data": {
      "text/plain": [
       "cancelou\n",
       "0.0    21446\n",
       "1.0     4821\n",
       "Name: count, dtype: int64"
      ]
     },
     "metadata": {},
     "output_type": "display_data"
    },
    {
     "data": {
      "text/plain": [
       "cancelou\n",
       "0.0    81.6%\n",
       "1.0    18.4%\n",
       "Name: proportion, dtype: object"
      ]
     },
     "metadata": {},
     "output_type": "display_data"
    }
   ],
   "source": [
    "# Motivos de cancelamento\n",
    "# 1 - pagamentos mensais\n",
    "# 2 - ligações pro callcenter acima de 4, cancelam\n",
    "# 3 - dias de atraso maior que 20, cancelam\n",
    "\n",
    "table = table[table[\"ligacoes_callcenter\"] < 5] #pegando apenas o clientes que ligaram menos de 5x\n",
    "table = table[table[\"dias_atraso\"] <=20 ] #pegandos apenas o clientes que atrasam menos de 20 dias pra pagar\n",
    "display(table[\"cancelou\"].value_counts()) #descobrir quantidade de valores de uma coluna, ex: quantidades de 0 e 1\n",
    "display(table[\"cancelou\"].value_counts(normalize=True).map(\"{:.1%}\".format))"
   ]
  }
 ],
 "metadata": {
  "kernelspec": {
   "display_name": "Python 3",
   "language": "python",
   "name": "python3"
  },
  "language_info": {
   "codemirror_mode": {
    "name": "ipython",
    "version": 3
   },
   "file_extension": ".py",
   "mimetype": "text/x-python",
   "name": "python",
   "nbconvert_exporter": "python",
   "pygments_lexer": "ipython3",
   "version": "3.11.5"
  },
  "orig_nbformat": 4
 },
 "nbformat": 4,
 "nbformat_minor": 2
}
